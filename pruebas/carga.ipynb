{
 "cells": [
  {
   "cell_type": "code",
   "execution_count": 2,
   "id": "c4e643fc",
   "metadata": {},
   "outputs": [],
   "source": [
    "import pandas as pd \n",
    "import numpy as np \n",
    "import psycopg2"
   ]
  },
  {
   "cell_type": "code",
   "execution_count": 3,
   "id": "8bfb6494",
   "metadata": {},
   "outputs": [],
   "source": [
    "conn = psycopg2.connect(\n",
    "    dbname=\"prueba_sephora\",\n",
    "    user = \"postgres\",\n",
    "    password = \"admin\",\n",
    "    host = \"localhost\",\n",
    "    port = \"5432\")"
   ]
  },
  {
   "cell_type": "code",
   "execution_count": 4,
   "id": "3ffa7337",
   "metadata": {},
   "outputs": [],
   "source": [
    "cur = conn.cursor()"
   ]
  },
  {
   "cell_type": "code",
   "execution_count": 39,
   "id": "3dd240fa",
   "metadata": {},
   "outputs": [
    {
     "data": {
      "text/html": [
       "<div>\n",
       "<style scoped>\n",
       "    .dataframe tbody tr th:only-of-type {\n",
       "        vertical-align: middle;\n",
       "    }\n",
       "\n",
       "    .dataframe tbody tr th {\n",
       "        vertical-align: top;\n",
       "    }\n",
       "\n",
       "    .dataframe thead th {\n",
       "        text-align: right;\n",
       "    }\n",
       "</style>\n",
       "<table border=\"1\" class=\"dataframe\">\n",
       "  <thead>\n",
       "    <tr style=\"text-align: right;\">\n",
       "      <th></th>\n",
       "      <th>categoria</th>\n",
       "      <th>subcategoria</th>\n",
       "      <th>marca</th>\n",
       "      <th>nombre</th>\n",
       "      <th>descripcion</th>\n",
       "      <th>precio</th>\n",
       "      <th>numero_valoraciones</th>\n",
       "      <th>valoracion</th>\n",
       "      <th>num_variaciones</th>\n",
       "      <th>fecha_extraccion</th>\n",
       "      <th>formato</th>\n",
       "      <th>responsabilidad</th>\n",
       "      <th>efecto_sombra</th>\n",
       "      <th>efecto_labios</th>\n",
       "      <th>efecto_mascara</th>\n",
       "      <th>tipo_brocha</th>\n",
       "      <th>formulacion</th>\n",
       "      <th>tipo_piel</th>\n",
       "      <th>cobertura</th>\n",
       "      <th>acabado</th>\n",
       "      <th>textura</th>\n",
       "    </tr>\n",
       "  </thead>\n",
       "  <tbody>\n",
       "    <tr>\n",
       "      <th>0</th>\n",
       "      <td>Ojos</td>\n",
       "      <td>Sombras de ojos</td>\n",
       "      <td>Rem Beauty</td>\n",
       "      <td>Starlet</td>\n",
       "      <td>Sombra de ojos líquida</td>\n",
       "      <td>23.0</td>\n",
       "      <td>1</td>\n",
       "      <td>2.0</td>\n",
       "      <td>12</td>\n",
       "      <td>2025-04-15</td>\n",
       "      <td>NaN</td>\n",
       "      <td>NaN</td>\n",
       "      <td>Mate, Irisado/Nacarado, Brillante</td>\n",
       "      <td>NaN</td>\n",
       "      <td>NaN</td>\n",
       "      <td>NaN</td>\n",
       "      <td>NaN</td>\n",
       "      <td>Todo tipo de pieles</td>\n",
       "      <td>NaN</td>\n",
       "      <td>NaN</td>\n",
       "      <td>Liquido</td>\n",
       "    </tr>\n",
       "    <tr>\n",
       "      <th>1</th>\n",
       "      <td>Rostro</td>\n",
       "      <td>Polvos bronceadores</td>\n",
       "      <td>Dior</td>\n",
       "      <td>Dior Forever Nude Bronze</td>\n",
       "      <td>Polvos bronceadores acabado radiante edición l...</td>\n",
       "      <td>65.0</td>\n",
       "      <td>0</td>\n",
       "      <td>0.0</td>\n",
       "      <td>2</td>\n",
       "      <td>2025-04-15</td>\n",
       "      <td>NaN</td>\n",
       "      <td>NaN</td>\n",
       "      <td>NaN</td>\n",
       "      <td>NaN</td>\n",
       "      <td>NaN</td>\n",
       "      <td>NaN</td>\n",
       "      <td>NaN</td>\n",
       "      <td>Todo tipo de pieles</td>\n",
       "      <td>Ligera</td>\n",
       "      <td>Natural</td>\n",
       "      <td>NaN</td>\n",
       "    </tr>\n",
       "    <tr>\n",
       "      <th>2</th>\n",
       "      <td>Labios</td>\n",
       "      <td>Voluminizador labios</td>\n",
       "      <td>Dior Backstage</td>\n",
       "      <td>Dior Lip Glow Oil</td>\n",
       "      <td>Aceite para labios brillante nutritivo realzad...</td>\n",
       "      <td>48.0</td>\n",
       "      <td>434</td>\n",
       "      <td>4.2</td>\n",
       "      <td>3</td>\n",
       "      <td>2025-04-15</td>\n",
       "      <td>NaN</td>\n",
       "      <td>NaN</td>\n",
       "      <td>NaN</td>\n",
       "      <td>NaN</td>\n",
       "      <td>NaN</td>\n",
       "      <td>NaN</td>\n",
       "      <td>NaN</td>\n",
       "      <td>Todo tipo de pieles</td>\n",
       "      <td>NaN</td>\n",
       "      <td>NaN</td>\n",
       "      <td>Aceite</td>\n",
       "    </tr>\n",
       "    <tr>\n",
       "      <th>3</th>\n",
       "      <td>Ojos</td>\n",
       "      <td>Paleta de sombras de ojos</td>\n",
       "      <td>Dior</td>\n",
       "      <td>Diorshow 5 Couleurs edición limitada</td>\n",
       "      <td>sombras de ojos de colores intensos</td>\n",
       "      <td>75.0</td>\n",
       "      <td>0</td>\n",
       "      <td>0.0</td>\n",
       "      <td>2</td>\n",
       "      <td>2025-04-15</td>\n",
       "      <td>NaN</td>\n",
       "      <td>NaN</td>\n",
       "      <td>Irisado/Nacarado</td>\n",
       "      <td>NaN</td>\n",
       "      <td>NaN</td>\n",
       "      <td>NaN</td>\n",
       "      <td>NaN</td>\n",
       "      <td>NaN</td>\n",
       "      <td>NaN</td>\n",
       "      <td>NaN</td>\n",
       "      <td>NaN</td>\n",
       "    </tr>\n",
       "    <tr>\n",
       "      <th>4</th>\n",
       "      <td>Uñas</td>\n",
       "      <td>Esmalte de uñas</td>\n",
       "      <td>Dior</td>\n",
       "      <td>Dior Vernis</td>\n",
       "      <td>Laca de uñas efecto gel color couture</td>\n",
       "      <td>37.0</td>\n",
       "      <td>0</td>\n",
       "      <td>0.0</td>\n",
       "      <td>2</td>\n",
       "      <td>2025-04-15</td>\n",
       "      <td>NaN</td>\n",
       "      <td>NaN</td>\n",
       "      <td>NaN</td>\n",
       "      <td>NaN</td>\n",
       "      <td>NaN</td>\n",
       "      <td>NaN</td>\n",
       "      <td>NaN</td>\n",
       "      <td>Todo tipo de pieles</td>\n",
       "      <td>NaN</td>\n",
       "      <td>Purpurina</td>\n",
       "      <td>NaN</td>\n",
       "    </tr>\n",
       "  </tbody>\n",
       "</table>\n",
       "</div>"
      ],
      "text/plain": [
       "  categoria               subcategoria           marca  \\\n",
       "0      Ojos            Sombras de ojos      Rem Beauty   \n",
       "1    Rostro        Polvos bronceadores            Dior   \n",
       "2    Labios       Voluminizador labios  Dior Backstage   \n",
       "3      Ojos  Paleta de sombras de ojos            Dior   \n",
       "4      Uñas            Esmalte de uñas            Dior   \n",
       "\n",
       "                                 nombre  \\\n",
       "0                               Starlet   \n",
       "1              Dior Forever Nude Bronze   \n",
       "2                     Dior Lip Glow Oil   \n",
       "3  Diorshow 5 Couleurs edición limitada   \n",
       "4                           Dior Vernis   \n",
       "\n",
       "                                         descripcion  precio  \\\n",
       "0                             Sombra de ojos líquida    23.0   \n",
       "1  Polvos bronceadores acabado radiante edición l...    65.0   \n",
       "2  Aceite para labios brillante nutritivo realzad...    48.0   \n",
       "3                sombras de ojos de colores intensos    75.0   \n",
       "4              Laca de uñas efecto gel color couture    37.0   \n",
       "\n",
       "   numero_valoraciones  valoracion  num_variaciones fecha_extraccion  formato  \\\n",
       "0                    1         2.0               12       2025-04-15      NaN   \n",
       "1                    0         0.0                2       2025-04-15      NaN   \n",
       "2                  434         4.2                3       2025-04-15      NaN   \n",
       "3                    0         0.0                2       2025-04-15      NaN   \n",
       "4                    0         0.0                2       2025-04-15      NaN   \n",
       "\n",
       "   responsabilidad                      efecto_sombra  efecto_labios  \\\n",
       "0              NaN  Mate, Irisado/Nacarado, Brillante            NaN   \n",
       "1              NaN                                NaN            NaN   \n",
       "2              NaN                                NaN            NaN   \n",
       "3              NaN                   Irisado/Nacarado            NaN   \n",
       "4              NaN                                NaN            NaN   \n",
       "\n",
       "   efecto_mascara  tipo_brocha  formulacion            tipo_piel cobertura  \\\n",
       "0             NaN          NaN          NaN  Todo tipo de pieles       NaN   \n",
       "1             NaN          NaN          NaN  Todo tipo de pieles    Ligera   \n",
       "2             NaN          NaN          NaN  Todo tipo de pieles       NaN   \n",
       "3             NaN          NaN          NaN                  NaN       NaN   \n",
       "4             NaN          NaN          NaN  Todo tipo de pieles       NaN   \n",
       "\n",
       "     acabado  textura  \n",
       "0        NaN  Liquido  \n",
       "1    Natural      NaN  \n",
       "2        NaN   Aceite  \n",
       "3        NaN      NaN  \n",
       "4  Purpurina      NaN  "
      ]
     },
     "execution_count": 39,
     "metadata": {},
     "output_type": "execute_result"
    }
   ],
   "source": [
    "df_principal = pd.read_csv('productos_maquillaje.csv')\n",
    "pd.set_option('display.max_columns', None)\n",
    "df_principal"
   ]
  },
  {
   "cell_type": "code",
   "execution_count": 40,
   "id": "163e93de",
   "metadata": {},
   "outputs": [
    {
     "name": "stdout",
     "output_type": "stream",
     "text": [
      "<class 'pandas.core.frame.DataFrame'>\n",
      "RangeIndex: 5 entries, 0 to 4\n",
      "Data columns (total 21 columns):\n",
      " #   Column               Non-Null Count  Dtype  \n",
      "---  ------               --------------  -----  \n",
      " 0   categoria            5 non-null      object \n",
      " 1   subcategoria         5 non-null      object \n",
      " 2   marca                5 non-null      object \n",
      " 3   nombre               5 non-null      object \n",
      " 4   descripcion          5 non-null      object \n",
      " 5   precio               5 non-null      float64\n",
      " 6   numero_valoraciones  5 non-null      int64  \n",
      " 7   valoracion           5 non-null      float64\n",
      " 8   num_variaciones      5 non-null      int64  \n",
      " 9   fecha_extraccion     5 non-null      object \n",
      " 10  formato              0 non-null      float64\n",
      " 11  responsabilidad      0 non-null      float64\n",
      " 12  efecto_sombra        2 non-null      object \n",
      " 13  efecto_labios        0 non-null      float64\n",
      " 14  efecto_mascara       0 non-null      float64\n",
      " 15  tipo_brocha          0 non-null      float64\n",
      " 16  formulacion          0 non-null      float64\n",
      " 17  tipo_piel            4 non-null      object \n",
      " 18  cobertura            1 non-null      object \n",
      " 19  acabado              2 non-null      object \n",
      " 20  textura              2 non-null      object \n",
      "dtypes: float64(8), int64(2), object(11)\n",
      "memory usage: 972.0+ bytes\n"
     ]
    }
   ],
   "source": [
    "df_principal.info()"
   ]
  },
  {
   "cell_type": "code",
   "execution_count": null,
   "id": "71f0060a",
   "metadata": {},
   "outputs": [
    {
     "data": {
      "text/html": [
       "<div>\n",
       "<style scoped>\n",
       "    .dataframe tbody tr th:only-of-type {\n",
       "        vertical-align: middle;\n",
       "    }\n",
       "\n",
       "    .dataframe tbody tr th {\n",
       "        vertical-align: top;\n",
       "    }\n",
       "\n",
       "    .dataframe thead th {\n",
       "        text-align: right;\n",
       "    }\n",
       "</style>\n",
       "<table border=\"1\" class=\"dataframe\">\n",
       "  <thead>\n",
       "    <tr style=\"text-align: right;\">\n",
       "      <th></th>\n",
       "      <th>nombre_marca</th>\n",
       "    </tr>\n",
       "  </thead>\n",
       "  <tbody>\n",
       "    <tr>\n",
       "      <th>0</th>\n",
       "      <td>Rem Beauty</td>\n",
       "    </tr>\n",
       "    <tr>\n",
       "      <th>1</th>\n",
       "      <td>Dior</td>\n",
       "    </tr>\n",
       "    <tr>\n",
       "      <th>2</th>\n",
       "      <td>Dior Backstage</td>\n",
       "    </tr>\n",
       "  </tbody>\n",
       "</table>\n",
       "</div>"
      ],
      "text/plain": [
       "     nombre_marca\n",
       "0      Rem Beauty\n",
       "1            Dior\n",
       "2  Dior Backstage"
      ]
     },
     "execution_count": 7,
     "metadata": {},
     "output_type": "execute_result"
    }
   ],
   "source": [
    "tabla_marcas = pd.DataFrame(df_principal[\"marca\"].unique(), columns=[\"nombre_marca\"])\n",
    "tabla_marcas"
   ]
  },
  {
   "cell_type": "code",
   "execution_count": 8,
   "id": "da549a01",
   "metadata": {},
   "outputs": [],
   "source": [
    "data_to_insert = [[row[\"nombre_marca\"]] for indice, row in tabla_marcas.iterrows()]"
   ]
  },
  {
   "cell_type": "code",
   "execution_count": 9,
   "id": "2f62e49e",
   "metadata": {},
   "outputs": [],
   "source": [
    "insert_query = \"\"\"\n",
    "        INSERT INTO marcas (nombre_marca)\n",
    "        VALUES (%s)\n",
    "\"\"\""
   ]
  },
  {
   "cell_type": "code",
   "execution_count": 10,
   "id": "d1a8d778",
   "metadata": {},
   "outputs": [],
   "source": [
    "cur.executemany(insert_query, data_to_insert)\n",
    "conn.commit()"
   ]
  },
  {
   "cell_type": "code",
   "execution_count": null,
   "id": "f417c08b",
   "metadata": {},
   "outputs": [],
   "source": [
    "tabla_categorias = pd.DataFrame(df_principal[\"categoria\"].unique(), columns=[\"nombre_categoria\"])\n",
    "data_to_insert = [[row[\"nombre_categoria\"]] for indice, row in tabla_categorias.iterrows()]\n",
    "insert_query = \"\"\"\n",
    "        INSERT INTO categorias (nombre_categoria)\n",
    "        VALUES (%s)\n",
    "\"\"\"\n",
    "cur.executemany(insert_query, data_to_insert)\n",
    "conn.commit()"
   ]
  },
  {
   "cell_type": "code",
   "execution_count": null,
   "id": "65b10d40",
   "metadata": {},
   "outputs": [],
   "source": [
    "tabla_subcategorias = pd.DataFrame(df_principal[\"subcategoria\"].unique(), columns=[\"nombre_subcategoria\"])\n",
    "data_to_insert = [[row[\"nombre_subcategoria\"]] for indice, row in tabla_subcategorias.iterrows()]\n",
    "insert_query = \"\"\"\n",
    "        INSERT INTO subcategorias (nombre_subcategoria)\n",
    "        VALUES (%s)\n",
    "\"\"\"\n",
    "cur.executemany(insert_query, data_to_insert)\n",
    "conn.commit()"
   ]
  },
  {
   "cell_type": "code",
   "execution_count": 13,
   "id": "5a3146d8",
   "metadata": {},
   "outputs": [
    {
     "data": {
      "text/plain": [
       "{'Rem Beauty': 1, 'Dior': 2, 'Dior Backstage': 3}"
      ]
     },
     "execution_count": 13,
     "metadata": {},
     "output_type": "execute_result"
    }
   ],
   "source": [
    "cur.execute(\"SELECT nombre_marca, id_marca FROM marcas\")\n",
    "marcas_dict = dict(cur.fetchall()) \n",
    "marcas_dict"
   ]
  },
  {
   "cell_type": "code",
   "execution_count": 14,
   "id": "0c536aa1",
   "metadata": {},
   "outputs": [
    {
     "data": {
      "text/plain": [
       "{'Ojos': 1, 'Rostro': 2, 'Labios': 3, 'Uñas': 4}"
      ]
     },
     "execution_count": 14,
     "metadata": {},
     "output_type": "execute_result"
    }
   ],
   "source": [
    "cur.execute(\"SELECT nombre_categoria, id_categoria FROM categorias\")\n",
    "categorias_dict = dict(cur.fetchall()) \n",
    "categorias_dict"
   ]
  },
  {
   "cell_type": "code",
   "execution_count": 15,
   "id": "ba4f0e2a",
   "metadata": {},
   "outputs": [
    {
     "data": {
      "text/plain": [
       "{'Sombras de ojos': 1,\n",
       " 'Polvos bronceadores': 2,\n",
       " 'Voluminizador labios': 3,\n",
       " 'Paleta de sombras de ojos': 4,\n",
       " 'Esmalte de uñas': 5}"
      ]
     },
     "execution_count": 15,
     "metadata": {},
     "output_type": "execute_result"
    }
   ],
   "source": [
    "cur.execute(\"SELECT nombre_subcategoria, id_subcategoria FROM subcategorias\")\n",
    "subcategorias_dict = dict(cur.fetchall()) \n",
    "subcategorias_dict"
   ]
  },
  {
   "cell_type": "code",
   "execution_count": null,
   "id": "4da9a5a0",
   "metadata": {},
   "outputs": [
    {
     "data": {
      "text/html": [
       "<div>\n",
       "<style scoped>\n",
       "    .dataframe tbody tr th:only-of-type {\n",
       "        vertical-align: middle;\n",
       "    }\n",
       "\n",
       "    .dataframe tbody tr th {\n",
       "        vertical-align: top;\n",
       "    }\n",
       "\n",
       "    .dataframe thead th {\n",
       "        text-align: right;\n",
       "    }\n",
       "</style>\n",
       "<table border=\"1\" class=\"dataframe\">\n",
       "  <thead>\n",
       "    <tr style=\"text-align: right;\">\n",
       "      <th></th>\n",
       "      <th>nombre</th>\n",
       "      <th>descripcion</th>\n",
       "      <th>id_marca</th>\n",
       "      <th>id_categoria</th>\n",
       "      <th>id_subcategoria</th>\n",
       "    </tr>\n",
       "  </thead>\n",
       "  <tbody>\n",
       "    <tr>\n",
       "      <th>0</th>\n",
       "      <td>Starlet</td>\n",
       "      <td>Sombra de ojos líquida</td>\n",
       "      <td>1</td>\n",
       "      <td>1</td>\n",
       "      <td>1</td>\n",
       "    </tr>\n",
       "    <tr>\n",
       "      <th>1</th>\n",
       "      <td>Dior Forever Nude Bronze</td>\n",
       "      <td>Polvos bronceadores acabado radiante edición l...</td>\n",
       "      <td>2</td>\n",
       "      <td>2</td>\n",
       "      <td>2</td>\n",
       "    </tr>\n",
       "    <tr>\n",
       "      <th>2</th>\n",
       "      <td>Dior Lip Glow Oil</td>\n",
       "      <td>Aceite para labios brillante nutritivo realzad...</td>\n",
       "      <td>3</td>\n",
       "      <td>3</td>\n",
       "      <td>3</td>\n",
       "    </tr>\n",
       "    <tr>\n",
       "      <th>3</th>\n",
       "      <td>Diorshow 5 Couleurs edición limitada</td>\n",
       "      <td>sombras de ojos de colores intensos</td>\n",
       "      <td>2</td>\n",
       "      <td>1</td>\n",
       "      <td>4</td>\n",
       "    </tr>\n",
       "    <tr>\n",
       "      <th>4</th>\n",
       "      <td>Dior Vernis</td>\n",
       "      <td>Laca de uñas efecto gel color couture</td>\n",
       "      <td>2</td>\n",
       "      <td>4</td>\n",
       "      <td>5</td>\n",
       "    </tr>\n",
       "  </tbody>\n",
       "</table>\n",
       "</div>"
      ],
      "text/plain": [
       "                                 nombre  \\\n",
       "0                               Starlet   \n",
       "1              Dior Forever Nude Bronze   \n",
       "2                     Dior Lip Glow Oil   \n",
       "3  Diorshow 5 Couleurs edición limitada   \n",
       "4                           Dior Vernis   \n",
       "\n",
       "                                         descripcion  id_marca  id_categoria  \\\n",
       "0                             Sombra de ojos líquida         1             1   \n",
       "1  Polvos bronceadores acabado radiante edición l...         2             2   \n",
       "2  Aceite para labios brillante nutritivo realzad...         3             3   \n",
       "3                sombras de ojos de colores intensos         2             1   \n",
       "4              Laca de uñas efecto gel color couture         2             4   \n",
       "\n",
       "   id_subcategoria  \n",
       "0                1  \n",
       "1                2  \n",
       "2                3  \n",
       "3                4  \n",
       "4                5  "
      ]
     },
     "execution_count": 26,
     "metadata": {},
     "output_type": "execute_result"
    }
   ],
   "source": [
    "data_to_insert = []\n",
    "df_productos = df_principal[[\"nombre\", \"descripcion\", \"marca\", \"categoria\", \"subcategoria\"]]\n",
    "for _, row in df_productos.iterrows(): \n",
    "    nombre = row[\"nombre\"]\n",
    "    descripcion = row[\"descripcion\"]\n",
    "    id_marca = marcas_dict.get(row[\"marca\"]) if row[\"marca\"] in marcas_dict else None\n",
    "    id_categoria = categorias_dict.get(row[\"categoria\"]) if row[\"categoria\"] in categorias_dict else None\n",
    "    id_subcategoria = subcategorias_dict.get(row[\"subcategoria\"]) if row[\"subcategoria\"] in subcategorias_dict else None\n",
    "    data_to_insert.append([nombre, descripcion, id_marca, id_categoria, id_subcategoria]) \n",
    "\n",
    "tabla_productos = pd.DataFrame(data_to_insert, columns=[\"nombre\", \"descripcion\", \"id_marca\", \"id_categoria\", \"id_subcategoria\"])\n",
    "tabla_productos"
   ]
  },
  {
   "cell_type": "code",
   "execution_count": 27,
   "id": "9c9084cd",
   "metadata": {},
   "outputs": [],
   "source": [
    "insert_query = \"\"\"\n",
    "        INSERT INTO productos (nombre, descripcion, id_marca, id_categoria, id_subcategoria)\n",
    "        VALUES (%s, %s, %s, %s, %s)\n",
    "\"\"\"\n",
    "\n",
    "cur.executemany(insert_query, data_to_insert)\n",
    "conn.commit()"
   ]
  },
  {
   "cell_type": "code",
   "execution_count": 28,
   "id": "63b0e760",
   "metadata": {},
   "outputs": [
    {
     "data": {
      "text/plain": [
       "{'Starlet': 1,\n",
       " 'Dior Forever Nude Bronze': 2,\n",
       " 'Dior Lip Glow Oil': 3,\n",
       " 'Diorshow 5 Couleurs edición limitada': 4,\n",
       " 'Dior Vernis': 5}"
      ]
     },
     "execution_count": 28,
     "metadata": {},
     "output_type": "execute_result"
    }
   ],
   "source": [
    "cur.execute(\"SELECT nombre, id_producto FROM productos\")\n",
    "productos_dict = dict(cur.fetchall()) \n",
    "productos_dict"
   ]
  },
  {
   "cell_type": "code",
   "execution_count": 30,
   "id": "5b2e1c7d",
   "metadata": {},
   "outputs": [
    {
     "data": {
      "text/html": [
       "<div>\n",
       "<style scoped>\n",
       "    .dataframe tbody tr th:only-of-type {\n",
       "        vertical-align: middle;\n",
       "    }\n",
       "\n",
       "    .dataframe tbody tr th {\n",
       "        vertical-align: top;\n",
       "    }\n",
       "\n",
       "    .dataframe thead th {\n",
       "        text-align: right;\n",
       "    }\n",
       "</style>\n",
       "<table border=\"1\" class=\"dataframe\">\n",
       "  <thead>\n",
       "    <tr style=\"text-align: right;\">\n",
       "      <th></th>\n",
       "      <th>id_producto</th>\n",
       "      <th>fecha_extraccion</th>\n",
       "      <th>precio</th>\n",
       "      <th>numero_valoraciones</th>\n",
       "      <th>valoracion</th>\n",
       "      <th>numero_variaciones</th>\n",
       "    </tr>\n",
       "  </thead>\n",
       "  <tbody>\n",
       "    <tr>\n",
       "      <th>0</th>\n",
       "      <td>1</td>\n",
       "      <td>2025-04-15</td>\n",
       "      <td>23.0</td>\n",
       "      <td>1</td>\n",
       "      <td>2.0</td>\n",
       "      <td>12</td>\n",
       "    </tr>\n",
       "    <tr>\n",
       "      <th>1</th>\n",
       "      <td>2</td>\n",
       "      <td>2025-04-15</td>\n",
       "      <td>65.0</td>\n",
       "      <td>0</td>\n",
       "      <td>0.0</td>\n",
       "      <td>2</td>\n",
       "    </tr>\n",
       "    <tr>\n",
       "      <th>2</th>\n",
       "      <td>3</td>\n",
       "      <td>2025-04-15</td>\n",
       "      <td>48.0</td>\n",
       "      <td>434</td>\n",
       "      <td>4.2</td>\n",
       "      <td>3</td>\n",
       "    </tr>\n",
       "    <tr>\n",
       "      <th>3</th>\n",
       "      <td>4</td>\n",
       "      <td>2025-04-15</td>\n",
       "      <td>75.0</td>\n",
       "      <td>0</td>\n",
       "      <td>0.0</td>\n",
       "      <td>2</td>\n",
       "    </tr>\n",
       "    <tr>\n",
       "      <th>4</th>\n",
       "      <td>5</td>\n",
       "      <td>2025-04-15</td>\n",
       "      <td>37.0</td>\n",
       "      <td>0</td>\n",
       "      <td>0.0</td>\n",
       "      <td>2</td>\n",
       "    </tr>\n",
       "  </tbody>\n",
       "</table>\n",
       "</div>"
      ],
      "text/plain": [
       "   id_producto fecha_extraccion  precio  numero_valoraciones  valoracion  \\\n",
       "0            1       2025-04-15    23.0                    1         2.0   \n",
       "1            2       2025-04-15    65.0                    0         0.0   \n",
       "2            3       2025-04-15    48.0                  434         4.2   \n",
       "3            4       2025-04-15    75.0                    0         0.0   \n",
       "4            5       2025-04-15    37.0                    0         0.0   \n",
       "\n",
       "   numero_variaciones  \n",
       "0                  12  \n",
       "1                   2  \n",
       "2                   3  \n",
       "3                   2  \n",
       "4                   2  "
      ]
     },
     "execution_count": 30,
     "metadata": {},
     "output_type": "execute_result"
    }
   ],
   "source": [
    "data_to_insert = []\n",
    "df_historico = df_principal[[\"nombre\", \"fecha_extraccion\", \"precio\", \"numero_valoraciones\", \"valoracion\", \"num_variaciones\"]]\n",
    "for _, row in df_historico.iterrows(): \n",
    "    id_producto = productos_dict.get(row[\"nombre\"]) if row[\"nombre\"] in productos_dict else None\n",
    "    fecha_extraccion = row[\"fecha_extraccion\"]\n",
    "    precio = row[\"precio\"]\n",
    "    numero_valoraciones = row[\"numero_valoraciones\"]\n",
    "    valoracion = row[\"valoracion\"]\n",
    "    numero_variaciones = row[\"num_variaciones\"]\n",
    "    data_to_insert.append([id_producto, fecha_extraccion, precio, numero_valoraciones, valoracion, numero_variaciones]) \n",
    "\n",
    "tabla_historico = pd.DataFrame(data_to_insert, columns=[\"id_producto\", \"fecha_extraccion\", \"precio\", \"numero_valoraciones\", \"valoracion\", \"numero_variaciones\"])\n",
    "tabla_historico"
   ]
  },
  {
   "cell_type": "code",
   "execution_count": 31,
   "id": "e53efcaf",
   "metadata": {},
   "outputs": [],
   "source": [
    "insert_query = \"\"\"\n",
    "        INSERT INTO historico (id_producto, fecha_extraccion, precio, numero_valoraciones, valoracion, numero_variaciones)\n",
    "        VALUES (%s, %s, %s, %s, %s, %s)\n",
    "\"\"\"\n",
    "\n",
    "cur.executemany(insert_query, data_to_insert)\n",
    "conn.commit()"
   ]
  },
  {
   "cell_type": "markdown",
   "id": "9271afd6",
   "metadata": {},
   "source": [
    "TABLAS FILTROS"
   ]
  },
  {
   "cell_type": "code",
   "execution_count": 33,
   "id": "8068fa35",
   "metadata": {},
   "outputs": [
    {
     "data": {
      "text/html": [
       "<div>\n",
       "<style scoped>\n",
       "    .dataframe tbody tr th:only-of-type {\n",
       "        vertical-align: middle;\n",
       "    }\n",
       "\n",
       "    .dataframe tbody tr th {\n",
       "        vertical-align: top;\n",
       "    }\n",
       "\n",
       "    .dataframe thead th {\n",
       "        text-align: right;\n",
       "    }\n",
       "</style>\n",
       "<table border=\"1\" class=\"dataframe\">\n",
       "  <thead>\n",
       "    <tr style=\"text-align: right;\">\n",
       "      <th></th>\n",
       "      <th>nombre_efecto</th>\n",
       "    </tr>\n",
       "  </thead>\n",
       "  <tbody>\n",
       "    <tr>\n",
       "      <th>0</th>\n",
       "      <td>Brillante</td>\n",
       "    </tr>\n",
       "    <tr>\n",
       "      <th>1</th>\n",
       "      <td>Irisado/Nacarado</td>\n",
       "    </tr>\n",
       "    <tr>\n",
       "      <th>2</th>\n",
       "      <td>Mate</td>\n",
       "    </tr>\n",
       "  </tbody>\n",
       "</table>\n",
       "</div>"
      ],
      "text/plain": [
       "      nombre_efecto\n",
       "0         Brillante\n",
       "1  Irisado/Nacarado\n",
       "2              Mate"
      ]
     },
     "execution_count": 33,
     "metadata": {},
     "output_type": "execute_result"
    }
   ],
   "source": [
    "df_efectos_sombra = df_principal[\"efecto_sombra\"].dropna()\n",
    "efectos_sombra_list = df_efectos_sombra.apply(lambda x: [ef.strip() for ef in x.split(\",\")])\n",
    "efectos_sombra_unicos = set([efecto for sublist in efectos_sombra_list for efecto in sublist])\n",
    "\n",
    "tabla_efectos_sombra = pd.DataFrame(efectos_sombra_unicos, columns=[\"nombre_efecto\"])\n",
    "\n",
    "data_to_insert = [[row[\"nombre_efecto\"]] for _, row in tabla_efectos_sombra.iterrows()]\n",
    "\n",
    "tabla_efectos_sombra"
   ]
  },
  {
   "cell_type": "code",
   "execution_count": 37,
   "id": "bbb2fec3",
   "metadata": {},
   "outputs": [
    {
     "data": {
      "text/plain": [
       "{'Brillante': 1, 'Irisado/Nacarado': 2, 'Mate': 3}"
      ]
     },
     "execution_count": 37,
     "metadata": {},
     "output_type": "execute_result"
    }
   ],
   "source": [
    "cur.execute(\"SELECT nombre_efecto, id_efecto_sombra FROM efectos_sombra\")\n",
    "efectos_sombra_dict = dict(cur.fetchall()) \n",
    "efectos_sombra_dict"
   ]
  },
  {
   "cell_type": "code",
   "execution_count": 38,
   "id": "640ea415",
   "metadata": {},
   "outputs": [],
   "source": [
    "data_to_insert = []\n",
    "for _, row in df_principal.iterrows():\n",
    "    if pd.isna(row[\"efecto_sombra\"]):\n",
    "        continue\n",
    "\n",
    "    id_producto = productos_dict.get(row[\"nombre\"])\n",
    "\n",
    "    efectos_sombra = [ef.strip() for ef in row[\"efecto_sombra\"].split(\",\")]\n",
    "    \n",
    "    for efecto in efectos_sombra:\n",
    "        id_efecto_sombra = efectos_sombra_dict.get(efecto)\n",
    "        if id_producto and id_efecto_sombra:\n",
    "            data_to_insert.append((id_producto, id_efecto_sombra))\n",
    "\n",
    "insert_query = \"\"\"\n",
    "    INSERT INTO producto_efecto_sombra (id_producto, id_efecto_sombra)\n",
    "    VALUES (%s, %s)\n",
    "\"\"\"  \n",
    "\n",
    "cur.executemany(insert_query, data_to_insert)\n",
    "conn.commit()"
   ]
  },
  {
   "cell_type": "code",
   "execution_count": 34,
   "id": "ea61302c",
   "metadata": {},
   "outputs": [],
   "source": [
    "insert_query = \"\"\"\n",
    "    INSERT INTO efectos_sombra (nombre_efecto)\n",
    "    VALUES (%s)\n",
    "\"\"\"\n",
    "\n",
    "cur.executemany(insert_query, data_to_insert)\n",
    "conn.commit()"
   ]
  },
  {
   "cell_type": "code",
   "execution_count": 35,
   "id": "c026f40d",
   "metadata": {},
   "outputs": [
    {
     "data": {
      "text/html": [
       "<div>\n",
       "<style scoped>\n",
       "    .dataframe tbody tr th:only-of-type {\n",
       "        vertical-align: middle;\n",
       "    }\n",
       "\n",
       "    .dataframe tbody tr th {\n",
       "        vertical-align: top;\n",
       "    }\n",
       "\n",
       "    .dataframe thead th {\n",
       "        text-align: right;\n",
       "    }\n",
       "</style>\n",
       "<table border=\"1\" class=\"dataframe\">\n",
       "  <thead>\n",
       "    <tr style=\"text-align: right;\">\n",
       "      <th></th>\n",
       "      <th>nombre_textura</th>\n",
       "    </tr>\n",
       "  </thead>\n",
       "  <tbody>\n",
       "    <tr>\n",
       "      <th>0</th>\n",
       "      <td>Liquido</td>\n",
       "    </tr>\n",
       "    <tr>\n",
       "      <th>1</th>\n",
       "      <td>Aceite</td>\n",
       "    </tr>\n",
       "  </tbody>\n",
       "</table>\n",
       "</div>"
      ],
      "text/plain": [
       "  nombre_textura\n",
       "0        Liquido\n",
       "1         Aceite"
      ]
     },
     "execution_count": 35,
     "metadata": {},
     "output_type": "execute_result"
    }
   ],
   "source": [
    "df_texturas = df_principal[\"textura\"].dropna()\n",
    "texturas_list = df_texturas.apply(lambda x: [tx.strip() for tx in x.split(\",\")])\n",
    "texturas_unicos = set([textura for sublist in texturas_list for textura in sublist])\n",
    "\n",
    "tabla_texturas = pd.DataFrame(texturas_unicos, columns=[\"nombre_textura\"])\n",
    "\n",
    "data_to_insert = [[row[\"nombre_textura\"]] for _, row in tabla_texturas.iterrows()]\n",
    "\n",
    "tabla_texturas"
   ]
  },
  {
   "cell_type": "code",
   "execution_count": 36,
   "id": "3bbad85c",
   "metadata": {},
   "outputs": [],
   "source": [
    "insert_query = \"\"\"\n",
    "    INSERT INTO texturas (nombre_textura)\n",
    "    VALUES (%s)\n",
    "\"\"\"\n",
    "\n",
    "cur.executemany(insert_query, data_to_insert)\n",
    "conn.commit()"
   ]
  }
 ],
 "metadata": {
  "kernelspec": {
   "display_name": "venv",
   "language": "python",
   "name": "python3"
  },
  "language_info": {
   "codemirror_mode": {
    "name": "ipython",
    "version": 3
   },
   "file_extension": ".py",
   "mimetype": "text/x-python",
   "name": "python",
   "nbconvert_exporter": "python",
   "pygments_lexer": "ipython3",
   "version": "3.13.0"
  }
 },
 "nbformat": 4,
 "nbformat_minor": 5
}
